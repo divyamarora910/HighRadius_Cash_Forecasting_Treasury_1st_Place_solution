{
 "cells": [
  {
   "cell_type": "code",
   "execution_count": 830,
   "metadata": {
    "collapsed": true
   },
   "outputs": [],
   "source": [
    "import pandas as pd\n",
    "import numpy as np\n",
    "#from datetime \n",
    "import datetime"
   ]
  },
  {
   "cell_type": "code",
   "execution_count": 831,
   "metadata": {
    "collapsed": true
   },
   "outputs": [],
   "source": [
    "data=pd.read_csv(r'DataSetforModel1.csv')"
   ]
  },
  {
   "cell_type": "code",
   "execution_count": 832,
   "metadata": {
    "collapsed": false
   },
   "outputs": [
    {
     "data": {
      "text/plain": [
       "(629626, 23)"
      ]
     },
     "execution_count": 832,
     "metadata": {},
     "output_type": "execute_result"
    }
   ],
   "source": [
    "data.shape"
   ]
  },
  {
   "cell_type": "code",
   "execution_count": 833,
   "metadata": {
    "collapsed": true
   },
   "outputs": [],
   "source": [
    "pd.set_option('max_rows',50)\n",
    "pd.set_option('max_columns',30)"
   ]
  },
  {
   "cell_type": "code",
   "execution_count": 834,
   "metadata": {
    "collapsed": false
   },
   "outputs": [],
   "source": [
    "data_inv=data[data['Alpha Rec Code'].isin(['REV_P','PMT'])]"
   ]
  },
  {
   "cell_type": "code",
   "execution_count": 835,
   "metadata": {
    "collapsed": false
   },
   "outputs": [
    {
     "data": {
      "text/plain": [
       "(347508, 23)"
      ]
     },
     "execution_count": 835,
     "metadata": {},
     "output_type": "execute_result"
    }
   ],
   "source": [
    "data_inv.shape"
   ]
  },
  {
   "cell_type": "code",
   "execution_count": 836,
   "metadata": {
    "collapsed": false
   },
   "outputs": [
    {
     "name": "stderr",
     "output_type": "stream",
     "text": [
      "D:\\python\\lib\\site-packages\\ipykernel\\__main__.py:1: SettingWithCopyWarning: \n",
      "A value is trying to be set on a copy of a slice from a DataFrame.\n",
      "Try using .loc[row_indexer,col_indexer] = value instead\n",
      "\n",
      "See the caveats in the documentation: http://pandas.pydata.org/pandas-docs/stable/indexing.html#indexing-view-versus-copy\n",
      "  if __name__ == '__main__':\n"
     ]
    }
   ],
   "source": [
    "data_inv['Effective Date']=pd.to_datetime(data_inv['Effective Date'])"
   ]
  },
  {
   "cell_type": "code",
   "execution_count": 837,
   "metadata": {
    "collapsed": false
   },
   "outputs": [],
   "source": [
    "data_inv=data_inv[data_inv.isOpen==0]"
   ]
  },
  {
   "cell_type": "code",
   "execution_count": 838,
   "metadata": {
    "collapsed": false
   },
   "outputs": [
    {
     "data": {
      "text/plain": [
       "Timestamp('2005-02-25 00:00:00')"
      ]
     },
     "execution_count": 838,
     "metadata": {},
     "output_type": "execute_result"
    }
   ],
   "source": [
    "data_inv['Effective Date'].min()"
   ]
  },
  {
   "cell_type": "code",
   "execution_count": 839,
   "metadata": {
    "collapsed": false
   },
   "outputs": [
    {
     "data": {
      "text/plain": [
       "Timestamp('2007-10-30 00:00:00')"
      ]
     },
     "execution_count": 839,
     "metadata": {},
     "output_type": "execute_result"
    }
   ],
   "source": [
    "data_inv['Effective Date'].max()"
   ]
  },
  {
   "cell_type": "code",
   "execution_count": 840,
   "metadata": {
    "collapsed": false
   },
   "outputs": [
    {
     "data": {
      "text/plain": [
       "Timedelta('977 days 00:00:00')"
      ]
     },
     "execution_count": 840,
     "metadata": {},
     "output_type": "execute_result"
    }
   ],
   "source": [
    "data_inv['Effective Date'].max()-data_inv['Effective Date'].min()"
   ]
  },
  {
   "cell_type": "code",
   "execution_count": 841,
   "metadata": {
    "collapsed": true
   },
   "outputs": [],
   "source": [
    "## Dates for M1: 3rd feb 2005 to 30th oct 2007"
   ]
  },
  {
   "cell_type": "markdown",
   "metadata": {},
   "source": [
    "## Overall variant"
   ]
  },
  {
   "cell_type": "code",
   "execution_count": 842,
   "metadata": {
    "collapsed": false
   },
   "outputs": [],
   "source": [
    "rolled_data=data_inv.groupby(['Effective Date'],as_index=False).Amount.sum()"
   ]
  },
  {
   "cell_type": "code",
   "execution_count": 843,
   "metadata": {
    "collapsed": false
   },
   "outputs": [],
   "source": [
    "rolled_data.sort_values('Effective Date',inplace=True)"
   ]
  },
  {
   "cell_type": "code",
   "execution_count": 844,
   "metadata": {
    "collapsed": false
   },
   "outputs": [
    {
     "data": {
      "text/plain": [
       "(891, 2)"
      ]
     },
     "execution_count": 844,
     "metadata": {},
     "output_type": "execute_result"
    }
   ],
   "source": [
    "rolled_data.shape"
   ]
  },
  {
   "cell_type": "code",
   "execution_count": 845,
   "metadata": {
    "collapsed": false
   },
   "outputs": [],
   "source": [
    "date_idx=pd.date_range(start=pd.to_datetime('2005-02-25'), end=pd.to_datetime('2007-10-30'), freq='D')"
   ]
  },
  {
   "cell_type": "code",
   "execution_count": 846,
   "metadata": {
    "collapsed": false
   },
   "outputs": [],
   "source": [
    "rolled_data2=rolled_data.set_index('Effective Date')"
   ]
  },
  {
   "cell_type": "code",
   "execution_count": 847,
   "metadata": {
    "collapsed": false
   },
   "outputs": [
    {
     "data": {
      "text/plain": [
       "(891, 1)"
      ]
     },
     "execution_count": 847,
     "metadata": {},
     "output_type": "execute_result"
    }
   ],
   "source": [
    "rolled_data2.shape"
   ]
  },
  {
   "cell_type": "code",
   "execution_count": 848,
   "metadata": {
    "collapsed": true
   },
   "outputs": [],
   "source": [
    "rolled_data2=rolled_data2.reindex(date_idx,fill_value=0)"
   ]
  },
  {
   "cell_type": "code",
   "execution_count": 849,
   "metadata": {
    "collapsed": false
   },
   "outputs": [
    {
     "data": {
      "text/plain": [
       "(978, 1)"
      ]
     },
     "execution_count": 849,
     "metadata": {},
     "output_type": "execute_result"
    }
   ],
   "source": [
    "rolled_data2.shape"
   ]
  },
  {
   "cell_type": "code",
   "execution_count": 850,
   "metadata": {
    "collapsed": true
   },
   "outputs": [],
   "source": [
    "rolled_data2['Effective Date'] = rolled_data2.index"
   ]
  },
  {
   "cell_type": "code",
   "execution_count": 851,
   "metadata": {
    "collapsed": true
   },
   "outputs": [],
   "source": [
    "rolled_data2 = rolled_data2.reset_index(drop=True)"
   ]
  },
  {
   "cell_type": "markdown",
   "metadata": {},
   "source": [
    "#### test"
   ]
  },
  {
   "cell_type": "code",
   "execution_count": 852,
   "metadata": {
    "collapsed": true
   },
   "outputs": [],
   "source": [
    "test=pd.DataFrame(columns=['Effective Date','Amount'])\n",
    "test_dates_idx=pd.date_range(start=pd.to_datetime('2007-10-31'), end=pd.to_datetime('2008-04-27'), freq='D')\n",
    "test=test.reindex(test_dates_idx,fill_value=0)\n",
    "test['Effective Date'] = test.index\n",
    "test = test.reset_index(drop=True)"
   ]
  },
  {
   "cell_type": "code",
   "execution_count": 853,
   "metadata": {
    "collapsed": false
   },
   "outputs": [],
   "source": [
    "old_rolled=rolled_data2.copy()\n",
    "rolled_data2=pd.concat([rolled_data2[['Effective Date','Amount']],test],axis=0)"
   ]
  },
  {
   "cell_type": "code",
   "execution_count": 854,
   "metadata": {
    "collapsed": true
   },
   "outputs": [],
   "source": [
    "rolled_data2['Effective Date']=pd.to_datetime(rolled_data2['Effective Date'])"
   ]
  },
  {
   "cell_type": "code",
   "execution_count": 855,
   "metadata": {
    "collapsed": true
   },
   "outputs": [],
   "source": [
    "rolled_data2.reset_index(inplace=True,drop=True)"
   ]
  },
  {
   "cell_type": "markdown",
   "metadata": {},
   "source": [
    "#### Perodicity"
   ]
  },
  {
   "cell_type": "code",
   "execution_count": 856,
   "metadata": {
    "collapsed": true
   },
   "outputs": [],
   "source": [
    "rolled_data2['day_of_week']=rolled_data2['Effective Date'].dt.dayofweek\n",
    "rolled_data2['day_of_month']=rolled_data2['Effective Date'].dt.day\n",
    "rolled_data2['month']=rolled_data2['Effective Date'].dt.month\n",
    "rolled_data2['quarter']=rolled_data2['Effective Date'].dt.quarter\n",
    "rolled_data2['week_of_year']=rolled_data2['Effective Date'].dt.week\n",
    "rolled_data2['week_of_month']=rolled_data2['Effective Date'].apply(lambda d: (d.day-1) // 7 + 1)\n",
    "rolled_data2['time_since_for_trend']=(rolled_data2['Effective Date']-rolled_data2['Effective Date'].min()).astype(str).apply(lambda x: x.split()[0])\n",
    "rolled_data2['is_weekend']=np.where((rolled_data2['day_of_week']==5)|(rolled_data2['day_of_week']==6),1,0)\n",
    "rolled_data2['is_weekday']=np.where((rolled_data2['day_of_week']==5)|(rolled_data2['day_of_week']==6),0,1)"
   ]
  },
  {
   "cell_type": "code",
   "execution_count": 857,
   "metadata": {
    "collapsed": false
   },
   "outputs": [
    {
     "data": {
      "text/plain": [
       "(1158, 11)"
      ]
     },
     "execution_count": 857,
     "metadata": {},
     "output_type": "execute_result"
    }
   ],
   "source": [
    "rolled_data2.shape"
   ]
  },
  {
   "cell_type": "markdown",
   "metadata": {},
   "source": [
    "##### sahiti features"
   ]
  },
  {
   "cell_type": "code",
   "execution_count": 858,
   "metadata": {
    "collapsed": false
   },
   "outputs": [],
   "source": [
    "temp = rolled_data2\n",
    "\n",
    "delta_data = data[data['Alpha Rec Code'].isin(['INV','INV_DM'])]\n",
    "\n",
    "delta_data = delta_data[delta_data['Num Rec Code'] == 21]\n",
    "\n",
    "delta_data = delta_data[delta_data['isOpen'] ==0]\n",
    "\n",
    "delta_data['day_of_week']=pd.to_datetime(delta_data['Effective Date']).dt.dayofweek\n",
    "Invoice_count = delta_data[['ID','day_of_week']].groupby('day_of_week',as_index = False).agg(\"count\")\n",
    "Invoice_count.columns = ['day_of_week','Invoice_count']\n",
    "\n",
    "\n",
    "delta_data = pd.merge(delta_data, Invoice_count, on = 'day_of_week', how = 'left')\n",
    "\n",
    "delta_data['Effective Date'] = pd.to_datetime(delta_data['Effective Date'])\n",
    "\n",
    "delta_data['delay'] = (pd.to_datetime(delta_data['Clearing Date']) - pd.to_datetime(delta_data['Due Date'])).astype(str).apply(lambda x:x.split()[0]).astype(int)\n",
    "delta_data['pos_delay'] = np.where(delta_data['delay']>0, delta_data['delay'], 0)\n",
    "\n",
    "temp['Effective Date'] = temp['Effective Date'].astype(str)\n",
    "delta_data['Effective Date'] = delta_data['Effective Date'].astype(str)\n",
    "\n",
    "temp = pd.merge(temp, delta_data[['Effective Date','delay','pos_delay','Invoice_count']], on = 'Effective Date', how = 'left')\n",
    "\n",
    "\n",
    "temp.drop_duplicates(subset=['Effective Date'], keep='last', inplace=True)\n",
    "\n",
    "temp['Effective Date'] = pd.to_datetime(temp['Effective Date'])\n",
    "delta_data['Effective Date'] = pd.to_datetime(delta_data['Effective Date'])\n",
    "\n",
    "PosDelayByWeekDay = temp[['pos_delay','day_of_week']].groupby('day_of_week',as_index = False).agg(\"mean\")\n",
    "PosDelayByWeekDay.columns = ['day_of_week','PosDelayByWeekDay']\n",
    "\n",
    "PosDelayByWeekNo = temp[['pos_delay','week_of_month']].groupby('week_of_month',as_index = False).agg(\"mean\")\n",
    "PosDelayByWeekNo.columns = ['week_of_month','PosDelayByWeekNo']\n",
    "\n",
    "PosDelayByMonthNo = temp[['pos_delay','month']].groupby('month',as_index = False).agg(\"mean\")\n",
    "PosDelayByMonthNo.columns = ['month','PosDelayByMonthNo']\n",
    "\n",
    "PosDelayByDayOfMonth = temp[['pos_delay','day_of_month']].groupby('day_of_month',as_index = False).agg(\"mean\")\n",
    "PosDelayByDayOfMonth.columns = ['day_of_month','PosDelayByDayOfMonth']\n",
    "\n",
    "temp = pd.merge(temp, PosDelayByWeekDay,on='day_of_week' ,how='left')\n",
    "temp = pd.merge(temp, PosDelayByWeekNo,on ='week_of_month', how = 'left')\n",
    "temp = pd.merge(temp, PosDelayByMonthNo,on ='month', how = 'left')\n",
    "temp = pd.merge(temp, PosDelayByDayOfMonth, on = 'day_of_month', how = 'left')\n",
    "\n",
    "temp[\"Amount\"] = pd.to_numeric(temp[\"Amount\"], downcast='float')\n",
    "\n",
    "AmountByWeekDay = temp[['Amount','day_of_week']].groupby('day_of_week',as_index = False).agg(\"mean\")\n",
    "AmountByWeekDay.columns = ['day_of_week','AmountByWeekDay']\n",
    "\n",
    "AmountByWeekNo = temp[['Amount','week_of_month']].groupby('week_of_month',as_index = False).agg(\"mean\")\n",
    "AmountByWeekNo.columns = ['week_of_month','AmountByWeekNo']\n",
    "\n",
    "AmountByMonthNo = temp[['Amount','month']].groupby('month',as_index = False).agg(\"mean\")\n",
    "AmountByMonthNo.columns = ['month','AmountByMonthNo']\n",
    "\n",
    "AmountByDayOfMonth = temp[['Amount','day_of_month']].groupby('day_of_month',as_index = False).agg(\"mean\")\n",
    "AmountByDayOfMonth.columns = ['day_of_month','AmountByDayOfMonth']\n",
    "\n",
    "temp = pd.merge(temp, AmountByWeekDay,on='day_of_week' ,how='left')\n",
    "temp = pd.merge(temp, AmountByWeekNo,on ='week_of_month', how = 'left')\n",
    "temp = pd.merge(temp, AmountByMonthNo,on ='month', how = 'left')\n",
    "temp = pd.merge(temp, AmountByDayOfMonth, on = 'day_of_month', how = 'left')\n",
    "\n",
    "rolled_data2=temp"
   ]
  },
  {
   "cell_type": "code",
   "execution_count": 859,
   "metadata": {
    "collapsed": false
   },
   "outputs": [],
   "source": [
    "rolled_data2.fillna(0,inplace=True)"
   ]
  },
  {
   "cell_type": "markdown",
   "metadata": {},
   "source": [
    "#### Holiday based"
   ]
  },
  {
   "cell_type": "code",
   "execution_count": 860,
   "metadata": {
    "collapsed": true
   },
   "outputs": [],
   "source": [
    "holidays1=pd.read_csv(r'D:\\WORK CODES\\cash\\Cash Forecasting (For Teams)\\HolidaysforModel1 v1.1.csv',header=None)\n",
    "holidays1.columns=['holidays']\n",
    "holidays1['holidays']=pd.to_datetime(holidays1['holidays'])\n",
    "final_holidays_list=list(holidays1['holidays'].dt.date)"
   ]
  },
  {
   "cell_type": "code",
   "execution_count": 861,
   "metadata": {
    "collapsed": false
   },
   "outputs": [],
   "source": [
    "#is_holiday, is_weekend_and_holiday, no_of_days_till_next_holiday(w/non-week), no_of_days_past_last_holiday(w/non-week)\n",
    "rolled_data2['is_holiday']=np.nan\n",
    "rolled_data2.loc[rolled_data2['Effective Date'].apply(lambda x: True if x.date() in final_holidays_list else False),'is_holiday_boolean']=1\n",
    "rolled_data2['is_holiday_boolean'].fillna(0,inplace=True)"
   ]
  },
  {
   "cell_type": "code",
   "execution_count": 862,
   "metadata": {
    "collapsed": false
   },
   "outputs": [],
   "source": [
    "rolled_data2['weekend_and_holiday']=((rolled_data2['is_holiday_boolean']==1)|(rolled_data2['is_weekend']==1)).astype(int)"
   ]
  },
  {
   "cell_type": "code",
   "execution_count": 863,
   "metadata": {
    "collapsed": false
   },
   "outputs": [],
   "source": [
    "rolled_data2.reset_index(inplace=True,drop=True)"
   ]
  },
  {
   "cell_type": "code",
   "execution_count": 864,
   "metadata": {
    "collapsed": true
   },
   "outputs": [],
   "source": [
    "rolled_data2['no_of_days_till_next_festival'] = np.nan\n",
    "rolled_data2['date_time']=pd.to_datetime(rolled_data2['Effective Date']).dt.date\n",
    "rolled_data2['date_time22']=(rolled_data2['date_time']-rolled_data2['date_time'].min()).apply(lambda x: str(x).split(' ')[0]).astype(int)\n",
    "rolled_data2=rolled_data2.sort_values('date_time22')\n",
    "holidays11=rolled_data2[rolled_data2['is_holiday_boolean']==1].sort_values('date_time22')['date_time22'].values.tolist()\n",
    "rolled_data2.reset_index(drop=True,inplace=True)\n",
    "rolled_data2['no_of_days_till_next_festival']=np.nan\n",
    "\n",
    "rolled_data2_index=rolled_data2.index\n",
    "\n",
    "\n",
    "current_holiday_index=0\n",
    "for index in rolled_data2_index:\n",
    "    curr_date = rolled_data2.at[index, 'date_time22']\n",
    "    if (len(holidays11)==0):\n",
    "        rolled_data2.at[index, 'no_of_days_till_next_festival']=-1\n",
    "    else:\n",
    "        if curr_date<=holidays11[0]:\n",
    "            rolled_data2.at[index, 'no_of_days_till_next_festival']=holidays11[0]-curr_date\n",
    "        else:\n",
    "            holidays11.remove(holidays11[0])\n",
    "            if (len(holidays11)==0):\n",
    "                rolled_data2.at[index, 'no_of_days_till_next_festival']=-1\n",
    "            else:\n",
    "                rolled_data2.at[index, 'no_of_days_till_next_festival']=holidays11[0]-curr_date"
   ]
  },
  {
   "cell_type": "code",
   "execution_count": 865,
   "metadata": {
    "collapsed": true
   },
   "outputs": [],
   "source": [
    "## No of days for All holidays(holidays+weekends)\n",
    "rolled_data2['no_of_days_till_next_holiday'] = np.nan\n",
    "holidays_all=rolled_data2[rolled_data2['weekend_and_holiday']==1].sort_values('date_time22')['date_time22'].values.tolist()\n",
    "rolled_data2.reset_index(drop=True,inplace=True)\n",
    "holidays_all=sorted(list(set(holidays_all)))\n",
    "rolled_data2=rolled_data2.sort_values('date_time22')\n",
    "rolled_data2_index=rolled_data2.index\n",
    "current_holiday_index=0\n",
    "for index in rolled_data2_index:\n",
    "    curr_date = rolled_data2.at[index, 'date_time22']\n",
    "    if (len(holidays_all)==0):\n",
    "        rolled_data2.at[index, 'no_of_days_till_next_holiday']=-1\n",
    "    else:\n",
    "        if curr_date<=holidays_all[0]:\n",
    "            rolled_data2.at[index, 'no_of_days_till_next_holiday']=holidays_all[0]-curr_date\n",
    "        else:\n",
    "            holidays_all.remove(holidays_all[0])\n",
    "            if (len(holidays_all)==0):\n",
    "                rolled_data2.at[index, 'no_of_days_till_next_holiday']=-1\n",
    "            else:\n",
    "                rolled_data2.at[index, 'no_of_days_till_next_holiday']=holidays_all[0]-curr_date"
   ]
  },
  {
   "cell_type": "code",
   "execution_count": 866,
   "metadata": {
    "collapsed": false
   },
   "outputs": [],
   "source": [
    "## Past holidays\n",
    "rolled_data2['no_of_days_past_last_festival'] = np.nan\n",
    "rolled_data2=rolled_data2.sort_values('date_time22')\n",
    "holidays11=rolled_data2[rolled_data2['is_holiday_boolean']==1].sort_values('date_time22')['date_time22'].values.tolist()\n",
    "rolled_data2.reset_index(drop=True,inplace=True)\n",
    "for index in rolled_data2_index:\n",
    "    curr_date = rolled_data2.at[index, 'date_time22']\n",
    "    if curr_date<holidays11[0]:\n",
    "        rolled_data2.at[index, 'no_of_days_past_last_festival']=-1\n",
    "    elif curr_date==holidays11[0]:\n",
    "        rolled_data2.at[index, 'no_of_days_past_last_festival']=0\n",
    "    else:\n",
    "        rolled_data2.at[index, 'no_of_days_past_last_festival']=curr_date-holidays11[0]\n",
    "        if (len(holidays11)>1):\n",
    "            if (holidays11[1]==(curr_date+1)):\n",
    "                holidays11.remove(holidays11[0])\n",
    "\n",
    "rolled_data2['no_of_days_past_last_holiday'] = np.nan\n",
    "holidays_all=rolled_data2[rolled_data2['weekend_and_holiday']==1].sort_values('date_time22')['date_time22'].values.tolist()\n",
    "rolled_data2.reset_index(drop=True,inplace=True)\n",
    "holidays_all=sorted(list(set(holidays_all)))\n",
    "rolled_data2=rolled_data2.sort_values('date_time22')\n",
    "\n",
    "for index in rolled_data2_index:\n",
    "    curr_date = rolled_data2.at[index, 'date_time22']\n",
    "    if curr_date<holidays_all[0]:\n",
    "        rolled_data2.at[index, 'no_of_days_past_last_holiday']=-1\n",
    "    elif curr_date==holidays_all[0]:\n",
    "        rolled_data2.at[index, 'no_of_days_past_last_holiday']=0\n",
    "        if (len(holidays_all)>1):\n",
    "            if (holidays_all[1]==(curr_date+1)):\n",
    "                holidays_all.remove(holidays_all[0])\n",
    "    else:\n",
    "        rolled_data2.at[index, 'no_of_days_past_last_holiday']=curr_date-holidays_all[0]\n",
    "        if (len(holidays_all)>1):\n",
    "            if (holidays_all[1]==(curr_date+1)):\n",
    "                holidays_all.remove(holidays_all[0])"
   ]
  },
  {
   "cell_type": "code",
   "execution_count": 867,
   "metadata": {
    "collapsed": true
   },
   "outputs": [],
   "source": [
    "rolled_data2['time_since_for_trend']=rolled_data2['time_since_for_trend'].astype(int)"
   ]
  },
  {
   "cell_type": "markdown",
   "metadata": {},
   "source": [
    "#### Arun features"
   ]
  },
  {
   "cell_type": "code",
   "execution_count": 868,
   "metadata": {
    "collapsed": true
   },
   "outputs": [],
   "source": [
    "def quarter_code(x):\n",
    "    if x.quarter in [1,3]:\n",
    "        return 0\n",
    "    elif x.quarter in [2]:\n",
    "        return 1\n",
    "    else:\n",
    "        return 2\n",
    "\n",
    "def weekofyear_code(x):\n",
    "    if x.weekofyear in [1,2,3,4,5,6,49,50,51,52]:\n",
    "        return 0\n",
    "    elif x.weekofyear in [7,8,9,10,23,24,25,26,27,28,29,30,31,32,33,34,35,36]:\n",
    "        return 1\n",
    "    elif x.weekofyear in [11,12,13,14,15,16,17,18,19,20,21,22]:\n",
    "        return 2\n",
    "    elif x.weekofyear in [37,38,39]:\n",
    "        return 3\n",
    "    elif x.weekofyear in [40,41,42,43,45]:\n",
    "        return 4\n",
    "    else:\n",
    "        return 5\n",
    "\n",
    "def end_features_code(x):\n",
    "    if x.is_month_start or x.is_month_end:\n",
    "        return 1\n",
    "    elif x.is_quarter_start:\n",
    "        return 2\n",
    "    elif x.is_quarter_end:\n",
    "        return 3\n",
    "    elif x.is_year_start:\n",
    "        return 4\n",
    "    elif x.is_year_end:\n",
    "        return 5\n",
    "    else:\n",
    "        return 0\n",
    "\n",
    "rolled_data2['arun_quarter']=rolled_data2['Effective Date'].apply(quarter_code).astype(int)\n",
    "rolled_data2['arun_week_of_year']=rolled_data2['Effective Date'].apply(weekofyear_code).astype(int)\n",
    "rolled_data2['arun_ending_of_time']=rolled_data2['Effective Date'].apply(end_features_code).astype(int)"
   ]
  },
  {
   "cell_type": "code",
   "execution_count": 869,
   "metadata": {
    "collapsed": true
   },
   "outputs": [],
   "source": [
    "rolled_data2['time_since_for_trend']=rolled_data2['time_since_for_trend'].astype(int)"
   ]
  },
  {
   "cell_type": "markdown",
   "metadata": {},
   "source": [
    "#### seperate data"
   ]
  },
  {
   "cell_type": "code",
   "execution_count": 870,
   "metadata": {
    "collapsed": true
   },
   "outputs": [],
   "source": [
    "test=rolled_data2[-180:]\n",
    "rolled_data2=rolled_data2[:-180]"
   ]
  },
  {
   "cell_type": "markdown",
   "metadata": {},
   "source": [
    "#### Peak based"
   ]
  },
  {
   "cell_type": "code",
   "execution_count": 871,
   "metadata": {
    "collapsed": true
   },
   "outputs": [],
   "source": [
    "rolled_data2_index=rolled_data2.index"
   ]
  },
  {
   "cell_type": "code",
   "execution_count": 872,
   "metadata": {
    "collapsed": false
   },
   "outputs": [],
   "source": [
    "# mean/median based - no of days from last peak\n",
    "rolled_data2['is_peak']=np.where(rolled_data2['Amount']>(rolled_data2['Amount'].median()+(2*rolled_data2['Amount'].std())),1,0)"
   ]
  },
  {
   "cell_type": "code",
   "execution_count": 873,
   "metadata": {
    "collapsed": false
   },
   "outputs": [],
   "source": [
    "# no of days from last peak\n",
    "rolled_data2['no_of_days_from_last_peak']=np.nan\n",
    "peaks_all=rolled_data2[rolled_data2['is_peak']==1].sort_values('date_time22')['date_time22'].values.tolist()\n",
    "rolled_data2.reset_index(drop=True,inplace=True)\n",
    "peaks_all=sorted(list(set(peaks_all)))\n",
    "rolled_data2=rolled_data2.sort_values('date_time22')\n",
    "\n",
    "for index in rolled_data2_index:\n",
    "    curr_date = rolled_data2.at[index, 'date_time22']\n",
    "    if curr_date<peaks_all[0]:\n",
    "        rolled_data2.at[index, 'no_of_days_from_last_peak']=-1\n",
    "    elif curr_date==peaks_all[0]:\n",
    "        rolled_data2.at[index, 'no_of_days_from_last_peak']=0\n",
    "        if (len(peaks_all)>1):\n",
    "            if (peaks_all[1]==(curr_date+1)):\n",
    "                peaks_all.remove(peaks_all[0])\n",
    "    else:\n",
    "        rolled_data2.at[index, 'no_of_days_from_last_peak']=curr_date-peaks_all[0]\n",
    "        if (len(peaks_all)>1):\n",
    "            if (peaks_all[1]==(curr_date+1)):\n",
    "                peaks_all.remove(peaks_all[0])"
   ]
  },
  {
   "cell_type": "markdown",
   "metadata": {},
   "source": [
    "#### rolling features"
   ]
  },
  {
   "cell_type": "code",
   "execution_count": 874,
   "metadata": {
    "collapsed": true
   },
   "outputs": [],
   "source": [
    "for i in range(3, 8):\n",
    "    rolled_data2['rolling_Amount_mean_' + str(i)] = rolled_data2['Amount'].shift().rolling(i).mean()\n",
    "    rolled_data2['rolling_Amount_std_' + str(i)] = rolled_data2['Amount'].shift().rolling(i).std()\n",
    "    rolled_data2['rolling_Amount_mean_' + str(i)] = rolled_data2['rolling_Amount_mean_' + str(i)].fillna(0)\n",
    "    rolled_data2['rolling_Amount_std_' + str(i)] = rolled_data2['rolling_Amount_std_' + str(i)].fillna(0)"
   ]
  },
  {
   "cell_type": "markdown",
   "metadata": {},
   "source": [
    "#### shift features"
   ]
  },
  {
   "cell_type": "code",
   "execution_count": 875,
   "metadata": {
    "collapsed": true
   },
   "outputs": [],
   "source": [
    "for i in range(1, 6):\n",
    "    rolled_data2['last_T' + str(i)] = rolled_data2['Amount'].shift(i)\n",
    "    rolled_data2['last_T' + str(i)] = rolled_data2['last_T' + str(i)].fillna(0)"
   ]
  },
  {
   "cell_type": "code",
   "execution_count": 876,
   "metadata": {
    "collapsed": false
   },
   "outputs": [
    {
     "data": {
      "text/plain": [
       "(978, 51)"
      ]
     },
     "execution_count": 876,
     "metadata": {},
     "output_type": "execute_result"
    }
   ],
   "source": [
    "rolled_data2.shape"
   ]
  },
  {
   "cell_type": "code",
   "execution_count": 877,
   "metadata": {
    "collapsed": false
   },
   "outputs": [
    {
     "data": {
      "text/plain": [
       "(180, 34)"
      ]
     },
     "execution_count": 877,
     "metadata": {},
     "output_type": "execute_result"
    }
   ],
   "source": [
    "test.shape"
   ]
  },
  {
   "cell_type": "markdown",
   "metadata": {},
   "source": [
    "##### last 5 rolling mondays,tues"
   ]
  },
  {
   "cell_type": "code",
   "execution_count": 878,
   "metadata": {
    "collapsed": false
   },
   "outputs": [
    {
     "name": "stderr",
     "output_type": "stream",
     "text": [
      "D:\\python\\lib\\site-packages\\ipykernel\\__main__.py:8: SettingWithCopyWarning: \n",
      "A value is trying to be set on a copy of a slice from a DataFrame.\n",
      "Try using .loc[row_indexer,col_indexer] = value instead\n",
      "\n",
      "See the caveats in the documentation: http://pandas.pydata.org/pandas-docs/stable/indexing.html#indexing-view-versus-copy\n",
      "D:\\python\\lib\\site-packages\\ipykernel\\__main__.py:9: SettingWithCopyWarning: \n",
      "A value is trying to be set on a copy of a slice from a DataFrame.\n",
      "Try using .loc[row_indexer,col_indexer] = value instead\n",
      "\n",
      "See the caveats in the documentation: http://pandas.pydata.org/pandas-docs/stable/indexing.html#indexing-view-versus-copy\n",
      "D:\\python\\lib\\site-packages\\ipykernel\\__main__.py:10: SettingWithCopyWarning: \n",
      "A value is trying to be set on a copy of a slice from a DataFrame.\n",
      "Try using .loc[row_indexer,col_indexer] = value instead\n",
      "\n",
      "See the caveats in the documentation: http://pandas.pydata.org/pandas-docs/stable/indexing.html#indexing-view-versus-copy\n",
      "D:\\python\\lib\\site-packages\\ipykernel\\__main__.py:11: SettingWithCopyWarning: \n",
      "A value is trying to be set on a copy of a slice from a DataFrame.\n",
      "Try using .loc[row_indexer,col_indexer] = value instead\n",
      "\n",
      "See the caveats in the documentation: http://pandas.pydata.org/pandas-docs/stable/indexing.html#indexing-view-versus-copy\n",
      "D:\\python\\lib\\site-packages\\ipykernel\\__main__.py:12: SettingWithCopyWarning: \n",
      "A value is trying to be set on a copy of a slice from a DataFrame.\n",
      "Try using .loc[row_indexer,col_indexer] = value instead\n",
      "\n",
      "See the caveats in the documentation: http://pandas.pydata.org/pandas-docs/stable/indexing.html#indexing-view-versus-copy\n",
      "D:\\python\\lib\\site-packages\\ipykernel\\__main__.py:13: SettingWithCopyWarning: \n",
      "A value is trying to be set on a copy of a slice from a DataFrame.\n",
      "Try using .loc[row_indexer,col_indexer] = value instead\n",
      "\n",
      "See the caveats in the documentation: http://pandas.pydata.org/pandas-docs/stable/indexing.html#indexing-view-versus-copy\n",
      "D:\\python\\lib\\site-packages\\ipykernel\\__main__.py:14: SettingWithCopyWarning: \n",
      "A value is trying to be set on a copy of a slice from a DataFrame.\n",
      "Try using .loc[row_indexer,col_indexer] = value instead\n",
      "\n",
      "See the caveats in the documentation: http://pandas.pydata.org/pandas-docs/stable/indexing.html#indexing-view-versus-copy\n",
      "D:\\python\\lib\\site-packages\\ipykernel\\__main__.py:15: SettingWithCopyWarning: \n",
      "A value is trying to be set on a copy of a slice from a DataFrame.\n",
      "Try using .loc[row_indexer,col_indexer] = value instead\n",
      "\n",
      "See the caveats in the documentation: http://pandas.pydata.org/pandas-docs/stable/indexing.html#indexing-view-versus-copy\n",
      "D:\\python\\lib\\site-packages\\ipykernel\\__main__.py:16: SettingWithCopyWarning: \n",
      "A value is trying to be set on a copy of a slice from a DataFrame.\n",
      "Try using .loc[row_indexer,col_indexer] = value instead\n",
      "\n",
      "See the caveats in the documentation: http://pandas.pydata.org/pandas-docs/stable/indexing.html#indexing-view-versus-copy\n",
      "D:\\python\\lib\\site-packages\\ipykernel\\__main__.py:17: SettingWithCopyWarning: \n",
      "A value is trying to be set on a copy of a slice from a DataFrame.\n",
      "Try using .loc[row_indexer,col_indexer] = value instead\n",
      "\n",
      "See the caveats in the documentation: http://pandas.pydata.org/pandas-docs/stable/indexing.html#indexing-view-versus-copy\n",
      "D:\\python\\lib\\site-packages\\ipykernel\\__main__.py:18: SettingWithCopyWarning: \n",
      "A value is trying to be set on a copy of a slice from a DataFrame.\n",
      "Try using .loc[row_indexer,col_indexer] = value instead\n",
      "\n",
      "See the caveats in the documentation: http://pandas.pydata.org/pandas-docs/stable/indexing.html#indexing-view-versus-copy\n",
      "D:\\python\\lib\\site-packages\\ipykernel\\__main__.py:19: SettingWithCopyWarning: \n",
      "A value is trying to be set on a copy of a slice from a DataFrame.\n",
      "Try using .loc[row_indexer,col_indexer] = value instead\n",
      "\n",
      "See the caveats in the documentation: http://pandas.pydata.org/pandas-docs/stable/indexing.html#indexing-view-versus-copy\n"
     ]
    }
   ],
   "source": [
    "rolled_data2['rolling_Amount_mean_day_of_week_3']=np.nan\n",
    "rolled_data2['rolling_Amount_std_day_of_week_3']=np.nan\n",
    "rolled_data2['rolling_Amount_mean_day_of_week_5']=np.nan\n",
    "rolled_data2['rolling_Amount_std_day_of_week_5']=np.nan\n",
    "rolled_data3=pd.DataFrame(columns=rolled_data2.columns.tolist())\n",
    "for x in rolled_data2['day_of_week'].unique().tolist():\n",
    "    ks=rolled_data2[rolled_data2['day_of_week']==x]\n",
    "    ks['rolling_Amount_mean_day_of_week_3'] = ks['Amount'].shift().rolling(3).mean()\n",
    "    ks['rolling_Amount_std_day_of_week_3'] = ks['Amount'].shift().rolling(3).std()\n",
    "    ks['rolling_Amount_mean_day_of_week_5'] = ks['Amount'].shift().rolling(5).mean()\n",
    "    ks['rolling_Amount_std_day_of_week_5'] = ks['Amount'].shift().rolling(5).std()\n",
    "    ks['rolling_Amount_mean_day_of_week_3'] = ks['rolling_Amount_mean_day_of_week_3'].fillna(0)\n",
    "    ks['rolling_Amount_std_day_of_week_3'] = ks['rolling_Amount_std_day_of_week_3'].fillna(0)\n",
    "    ks['rolling_Amount_mean_day_of_week_5'] = ks['rolling_Amount_mean_day_of_week_5'].fillna(0)\n",
    "    ks['rolling_Amount_std_day_of_week_5'] = ks['rolling_Amount_std_day_of_week_5'].fillna(0)\n",
    "    ks['last_T1_day_of_week'] = ks['Amount'].shift(1)\n",
    "    ks['last_T1_day_of_week'] = ks['last_T1_day_of_week'].fillna(0)\n",
    "    ks['last_T2_day_of_week'] = ks['Amount'].shift(2)\n",
    "    ks['last_T2_day_of_week'] = ks['last_T2_day_of_week'].fillna(0)\n",
    "    rolled_data3=pd.concat([rolled_data3,ks],axis=0)\n",
    "rolled_data2=rolled_data3.sort_values('Effective Date')"
   ]
  },
  {
   "cell_type": "markdown",
   "metadata": {},
   "source": [
    "- creating rolling,shift and peak feature while predictions"
   ]
  },
  {
   "cell_type": "code",
   "execution_count": 879,
   "metadata": {
    "collapsed": true
   },
   "outputs": [],
   "source": [
    "features=['rolling_Amount_mean_3', 'rolling_Amount_std_4', 'rolling_Amount_mean_5',\n",
    "          'rolling_Amount_mean_6', 'rolling_Amount_mean_7', 'last_T1', 'last_T4', 'last_T5',\n",
    "          'day_of_week', 'month', 'is_weekend', 'is_weekday', 'is_holiday_boolean',\n",
    "          'weekend_and_holiday', 'no_of_days_till_next_holiday', 'no_of_days_past_last_festival']"
   ]
  },
  {
   "cell_type": "code",
   "execution_count": null,
   "metadata": {
    "collapsed": true
   },
   "outputs": [],
   "source": [
    "M2=['rolling_Amount_mean_3', 'rolling_Amount_std_3', 'rolling_Amount_std_5', \n",
    "    'rolling_Amount_std_7', 'last_T2', 'last_T3', 'last_T4', 'day_of_week', \n",
    "    'day_of_month', 'month', 'quarter', 'week_of_year', 'is_weekend', 'is_weekday',\n",
    "    'no_of_days_past_last_festival', 'rolling_Amount_mean_day_of_week_5', \n",
    "    'rolling_Amount_std_day_of_week_3', 'rolling_Amount_std_day_of_week_5', 'last_T1_day_of_week']"
   ]
  },
  {
   "cell_type": "code",
   "execution_count": 823,
   "metadata": {
    "collapsed": true
   },
   "outputs": [],
   "source": [
    "features=['rolling_Amount_mean_5', 'last_T2','day_of_week','is_weekday', 'is_holiday_boolean','weekend_and_holiday',\n",
    "          'no_of_days_till_next_holiday', 'no_of_days_from_last_peak','rolling_Amount_mean_day_of_week_5',\n",
    "          'rolling_Amount_std_day_of_week_5','last_T2_day_of_week',\n",
    "          'Invoice_count','AmountByWeekDay']"
   ]
  },
  {
   "cell_type": "code",
   "execution_count": 654,
   "metadata": {
    "collapsed": true
   },
   "outputs": [],
   "source": [
    "features=['rolling_Amount_mean_3','rolling_Amount_std_3', 'rolling_Amount_mean_4', 'rolling_Amount_std_4',\n",
    "          'rolling_Amount_mean_5', 'rolling_Amount_std_5','rolling_Amount_mean_6', 'rolling_Amount_std_6',\n",
    "          'rolling_Amount_mean_7', 'rolling_Amount_std_7', 'last_T1', 'last_T2','last_T3', 'last_T4', 'last_T5','day_of_week',\n",
    "          'day_of_month', 'month','quarter', 'week_of_year', 'week_of_month', 'time_since_for_trend','is_weekend',\n",
    "          'is_weekday', 'is_holiday_boolean','weekend_and_holiday','no_of_days_till_next_festival', \n",
    "          'no_of_days_till_next_holiday','no_of_days_past_last_festival','no_of_days_past_last_holiday', \n",
    "          'no_of_days_from_last_peak','rolling_Amount_mean_day_of_week_3','rolling_Amount_mean_day_of_week_5',\n",
    "          'rolling_Amount_std_day_of_week_3','rolling_Amount_std_day_of_week_5',\n",
    "          'last_T2_day_of_week','last_T1_day_of_week','arun_quarter','arun_week_of_year','arun_ending_of_time',\n",
    "         'PosDelayByWeekDay','PosDelayByWeekNo','PosDelayByMonthNo','PosDelayByDayOfMonth',\n",
    "          'Invoice_count','AmountByWeekDay','AmountByWeekNo','AmountByMonthNo','AmountByDayOfMonth']"
   ]
  },
  {
   "cell_type": "code",
   "execution_count": 655,
   "metadata": {
    "collapsed": true
   },
   "outputs": [],
   "source": [
    "features=['rolling_Amount_mean_3', 'rolling_Amount_std_4', 'rolling_Amount_mean_5',\n",
    "          'rolling_Amount_mean_6', 'rolling_Amount_mean_7', 'last_T1', 'last_T4', 'last_T5',\n",
    "          'day_of_week', 'month', 'is_weekend', 'is_weekday', 'is_holiday_boolean',\n",
    "          'weekend_and_holiday', 'no_of_days_till_next_holiday', 'no_of_days_past_last_festival','PosDelayByWeekDay',\n",
    "          'PosDelayByWeekNo','PosDelayByMonthNo','PosDelayByDayOfMonth',\n",
    "          'Invoice_count','AmountByWeekDay','AmountByWeekNo','AmountByMonthNo','AmountByDayOfMonth']"
   ]
  },
  {
   "cell_type": "code",
   "execution_count": 329,
   "metadata": {
    "collapsed": true
   },
   "outputs": [],
   "source": [
    "features=['rolling_Amount_mean_3', 'rolling_Amount_std_4', 'rolling_Amount_mean_5',\n",
    "          'rolling_Amount_mean_6', 'rolling_Amount_mean_7', 'last_T1', 'last_T4', 'last_T5',\n",
    "          'day_of_week', 'month', 'is_weekend', 'is_weekday', 'is_holiday_boolean',\n",
    "          'weekend_and_holiday', 'no_of_days_till_next_holiday', 'no_of_days_past_last_festival',\n",
    "          'rolling_Amount_mean_day_of_week_3','rolling_Amount_mean_day_of_week_5',\n",
    "          'rolling_Amount_std_day_of_week_3','rolling_Amount_std_day_of_week_5',\n",
    "          'last_T2_day_of_week','last_T1_day_of_week']"
   ]
  },
  {
   "cell_type": "code",
   "execution_count": 330,
   "metadata": {
    "collapsed": true
   },
   "outputs": [],
   "source": [
    "#10\n",
    "features=['rolling_Amount_mean_3', 'rolling_Amount_std_3', 'rolling_Amount_std_4', 'rolling_Amount_mean_5', 'rolling_Amount_std_5', 'rolling_Amount_mean_7', 'rolling_Amount_std_7', 'last_T1', 'day_of_month', 'week_of_year', 'week_of_month', 'is_weekday', 'is_holiday_boolean', 'weekend_and_holiday', 'no_of_days_till_next_holiday', 'no_of_days_past_last_festival', 'no_of_days_past_last_holiday', 'rolling_Amount_mean_day_of_week_5', 'last_T1_day_of_week']"
   ]
  },
  {
   "cell_type": "code",
   "execution_count": 880,
   "metadata": {
    "collapsed": false
   },
   "outputs": [],
   "source": [
    "for x in rolled_data2[features].columns.tolist():\n",
    "            if (rolled_data2[x].dtype=='object'):\n",
    "                rolled_data2[x]=rolled_data2[x].astype(int)"
   ]
  },
  {
   "cell_type": "code",
   "execution_count": 881,
   "metadata": {
    "collapsed": false
   },
   "outputs": [
    {
     "data": {
      "text/plain": [
       "XGBRegressor(base_score=0.5, booster='gbtree', colsample_bylevel=0.8,\n",
       "       colsample_bytree=0.6, gamma=1, learning_rate=0.03, max_delta_step=0,\n",
       "       max_depth=5, min_child_weight=1, missing=None, n_estimators=300,\n",
       "       n_jobs=1, nthread=None, objective='reg:linear', random_state=0,\n",
       "       reg_alpha=0, reg_lambda=1, scale_pos_weight=1, seed=0, silent=True,\n",
       "       subsample=1)"
      ]
     },
     "execution_count": 881,
     "metadata": {},
     "output_type": "execute_result"
    }
   ],
   "source": [
    "import xgboost\n",
    "xgb_model = xgboost.XGBRegressor(colsample_bytree=0.6,colsample_bylevel=0.8,\n",
    "                 gamma=1,                 \n",
    "                 learning_rate=0.03,\n",
    "                 max_depth=5,\n",
    "                 n_estimators=300,seed=0,reg_lambda=1)\n",
    "xgb_model.fit(rolled_data2[features],rolled_data2[\"Amount\"])"
   ]
  },
  {
   "cell_type": "code",
   "execution_count": 882,
   "metadata": {
    "collapsed": false
   },
   "outputs": [],
   "source": [
    "def predictOneRecordPerTime(train,test,peak_threshold,features_used,best_xgb_model):\n",
    "    last_peak_date=train[train['is_peak']==1]['Effective Date'].max().date()\n",
    "    last_5_shift_values=train['Amount'].tail().values.tolist()\n",
    "    last_3_mean_std=train['Amount'].tail(3).values.tolist()\n",
    "    last_4_mean_std=train['Amount'].tail(4).values.tolist()\n",
    "    last_5_mean_std=train['Amount'].tail(5).values.tolist()\n",
    "    last_6_mean_std=train['Amount'].tail(6).values.tolist()\n",
    "    last_7_mean_std=train['Amount'].tail(7).values.tolist()\n",
    "    day_of_week_3_mean_stds={}\n",
    "    day_of_week_5_mean_stds={}\n",
    "    day_of_week_2_shifts={}\n",
    "    for i in train['day_of_week'].unique().tolist():\n",
    "        day_of_week_3_mean_stds[i]=train[train['day_of_week']==i]['Amount'].tail(3).values.tolist()\n",
    "        day_of_week_5_mean_stds[i]=train[train['day_of_week']==i]['Amount'].tail(5).values.tolist()\n",
    "        day_of_week_2_shifts[i]=train[train['day_of_week']==i]['Amount'].tail(2).values.tolist()\n",
    "    #temp_df=pd.DataFrame()\n",
    "    test['Amount']=np.nan\n",
    "    test['is_peak']=np.nan\n",
    "    for index,row in test.iterrows():\n",
    "        #calculating features\n",
    "        shift5,shift4,shift3,shift2,shift1=last_5_shift_values\n",
    "        last_3_mean=pd.Series(last_3_mean_std).mean()\n",
    "        last_3_std=pd.Series(last_3_mean_std).std()\n",
    "        last_4_mean=pd.Series(last_4_mean_std).mean()\n",
    "        last_4_std=pd.Series(last_4_mean_std).std()\n",
    "        last_5_mean=pd.Series(last_5_mean_std).mean()\n",
    "        last_5_std=pd.Series(last_5_mean_std).std()\n",
    "        last_6_mean=pd.Series(last_6_mean_std).mean()\n",
    "        last_6_std=pd.Series(last_6_mean_std).std()\n",
    "        last_7_mean=pd.Series(last_7_mean_std).mean()\n",
    "        last_7_std=pd.Series(last_7_mean_std).std()\n",
    "        last_3_day_of_week_mean=pd.Series(day_of_week_3_mean_stds[row['day_of_week']]).mean()\n",
    "        last_5_day_of_week_mean=pd.Series(day_of_week_5_mean_stds[row['day_of_week']]).mean()\n",
    "        last_3_day_of_week_std=pd.Series(day_of_week_3_mean_stds[row['day_of_week']]).std()\n",
    "        last_5_day_of_week_std=pd.Series(day_of_week_5_mean_stds[row['day_of_week']]).std()\n",
    "        shift2_day_of_week,shift1_day_of_week=day_of_week_2_shifts[row['day_of_week']]\n",
    "        try:\n",
    "            no_of_days_from_peak=int(str(row['Effective Date'].date()-last_peak_date).split()[0])\n",
    "        except:\n",
    "            no_of_days_from_peak=int(str(row['Effective Date'].to_datetime()-last_peak_date).split()[0])\n",
    "        new_row=pd.DataFrame(data=[[shift1,shift2,shift3,shift4,shift5,last_3_mean,last_3_std,\n",
    "                                    last_4_mean,last_4_std,last_5_mean,last_5_std,last_6_mean,\n",
    "                                    last_6_std,last_7_mean,last_7_std,no_of_days_from_peak,last_3_day_of_week_mean,\n",
    "                                   last_5_day_of_week_mean,last_3_day_of_week_std,last_5_day_of_week_std,shift2_day_of_week,\n",
    "                                   shift1_day_of_week]],\n",
    "                             columns=['last_T1', 'last_T2','last_T3', 'last_T4', 'last_T5','rolling_Amount_mean_3',\n",
    "                                      'rolling_Amount_std_3', 'rolling_Amount_mean_4', 'rolling_Amount_std_4',\n",
    "                                      'rolling_Amount_mean_5', 'rolling_Amount_std_5','rolling_Amount_mean_6',\n",
    "                                      'rolling_Amount_std_6','rolling_Amount_mean_7', 'rolling_Amount_std_7',\n",
    "                                      'no_of_days_from_last_peak','rolling_Amount_mean_day_of_week_3',\n",
    "                                     'rolling_Amount_mean_day_of_week_5','rolling_Amount_std_day_of_week_3',\n",
    "                                     'rolling_Amount_std_day_of_week_5','last_T2_day_of_week','last_T1_day_of_week'])\n",
    "        Final_row=pd.concat([(pd.DataFrame(row).T).reset_index(drop=True),(new_row)],axis=1)\n",
    "        Final_row=Final_row[features_used]\n",
    "        for x in Final_row.columns.tolist():\n",
    "            if (Final_row[x].dtype=='object'):\n",
    "                Final_row[x]=Final_row[x].astype(int)\n",
    "        #temp_df=pd.concat([temp_df,Final_row],axis=0)\n",
    "        # Used trained model object to predict\n",
    "        pred_val_xgb=best_xgb_model.predict(Final_row)\n",
    "        #Use current prediction to update all queue and last peak date\n",
    "        #updates\n",
    "        new_prediction=pred_val_xgb[0]\n",
    "        #if test.loc[index,'is_weekend']==1:\n",
    "        #    test.loc[index,'Amount']=0\n",
    "        #    new_prediction=0\n",
    "        #updates values\n",
    "        last2shifts=day_of_week_2_shifts[row['day_of_week']]\n",
    "        last2shifts.remove(last2shifts[0])\n",
    "        last2shifts.append(new_prediction)\n",
    "        day_of_week_2_shifts[row['day_of_week']]=last2shifts\n",
    "        \n",
    "        last3mean_std=day_of_week_3_mean_stds[row['day_of_week']]\n",
    "        last3mean_std.remove(last3mean_std[0])\n",
    "        last3mean_std.append(new_prediction)\n",
    "        day_of_week_3_mean_stds[row['day_of_week']]=last3mean_std\n",
    "        \n",
    "        last5mean_std=day_of_week_5_mean_stds[row['day_of_week']]\n",
    "        last5mean_std.remove(last5mean_std[0])\n",
    "        last5mean_std.append(new_prediction)\n",
    "        day_of_week_5_mean_stds[row['day_of_week']]=last5mean_std\n",
    "        \n",
    "        \n",
    "        last_5_shift_values.remove(last_5_shift_values[0])#5th value removed\n",
    "        last_5_shift_values.append(new_prediction)\n",
    "        last_3_mean_std.remove(last_3_mean_std[0])\n",
    "        last_3_mean_std.append(new_prediction)\n",
    "        last_4_mean_std.remove(last_4_mean_std[0])\n",
    "        last_4_mean_std.append(new_prediction)\n",
    "        last_5_mean_std.remove(last_5_mean_std[0])\n",
    "        last_5_mean_std.append(new_prediction)\n",
    "        last_6_mean_std.remove(last_6_mean_std[0])\n",
    "        last_6_mean_std.append(new_prediction)\n",
    "        last_7_mean_std.remove(last_7_mean_std[0])\n",
    "        last_7_mean_std.append(new_prediction)\n",
    "        if (new_prediction>peak_threshold):\n",
    "            last_peak_date=row['Effective Date']\n",
    "            test.loc[index,'is_peak']=1\n",
    "        else:\n",
    "            test.loc[index,'is_peak']=0\n",
    "        test.loc[index,'Amount']=new_prediction\n",
    "    return test"
   ]
  },
  {
   "cell_type": "code",
   "execution_count": 883,
   "metadata": {
    "collapsed": true
   },
   "outputs": [],
   "source": [
    "peak_threshold=(rolled_data2['Amount'].median()+(2*rolled_data2['Amount'].std()))"
   ]
  },
  {
   "cell_type": "code",
   "execution_count": 884,
   "metadata": {
    "collapsed": false
   },
   "outputs": [
    {
     "name": "stderr",
     "output_type": "stream",
     "text": [
      "D:\\python\\lib\\site-packages\\ipykernel\\__main__.py:1: FutureWarning: to_datetime is deprecated. Use self.to_pydatetime()\n",
      "  if __name__ == '__main__':\n"
     ]
    }
   ],
   "source": [
    "output=predictOneRecordPerTime(rolled_data2,test,peak_threshold,features,xgb_model)"
   ]
  },
  {
   "cell_type": "code",
   "execution_count": 885,
   "metadata": {
    "collapsed": false
   },
   "outputs": [],
   "source": [
    "output.to_csv('pred1_1_fin.csv')"
   ]
  },
  {
   "cell_type": "code",
   "execution_count": 1221,
   "metadata": {
    "collapsed": true
   },
   "outputs": [],
   "source": [
    "temp.to_csv('m1_test.csv')"
   ]
  },
  {
   "cell_type": "code",
   "execution_count": null,
   "metadata": {
    "collapsed": true
   },
   "outputs": [],
   "source": [
    "import math\n",
    "from sklearn.metrics import mean_squared_error,mean_squared_log_error,mean_absolute_error\n",
    "\n",
    "pred_val_xgb=best_xgb_model.predict(test[all_cols])\n",
    "print(math.sqrt(mean_squared_error(test['Amount'],pred_val_xgb)))"
   ]
  },
  {
   "cell_type": "code",
   "execution_count": null,
   "metadata": {
    "collapsed": true
   },
   "outputs": [],
   "source": []
  },
  {
   "cell_type": "code",
   "execution_count": null,
   "metadata": {
    "collapsed": true
   },
   "outputs": [],
   "source": []
  },
  {
   "cell_type": "code",
   "execution_count": null,
   "metadata": {
    "collapsed": true
   },
   "outputs": [],
   "source": []
  },
  {
   "cell_type": "code",
   "execution_count": 306,
   "metadata": {
    "collapsed": false
   },
   "outputs": [],
   "source": [
    "rolled_data3=rolled_data2[['Amount', 'rolling_Amount_mean_3','rolling_Amount_std_3', 'rolling_Amount_mean_4', \n",
    "                           'rolling_Amount_std_4','rolling_Amount_mean_5', 'rolling_Amount_std_5',\n",
    "                           'rolling_Amount_mean_6', 'rolling_Amount_std_6','rolling_Amount_mean_7', \n",
    "                           'rolling_Amount_std_7', 'last_T1', 'last_T2','last_T3', 'last_T4', 'last_T5',\n",
    "                           'day_of_week', 'day_of_month', 'month','quarter', 'week_of_year', 'week_of_month', \n",
    "                           'time_since_for_trend','is_weekend', 'is_weekday', 'is_holiday_boolean','weekend_and_holiday',\n",
    "                           'no_of_days_till_next_festival',  'no_of_days_till_next_holiday','no_of_days_past_last_festival',\n",
    "                           'no_of_days_past_last_holiday', 'no_of_days_from_last_peak']]"
   ]
  },
  {
   "cell_type": "code",
   "execution_count": 307,
   "metadata": {
    "collapsed": false
   },
   "outputs": [
    {
     "data": {
      "text/plain": [
       "(978, 32)"
      ]
     },
     "execution_count": 307,
     "metadata": {},
     "output_type": "execute_result"
    }
   ],
   "source": [
    "rolled_data3.shape"
   ]
  },
  {
   "cell_type": "code",
   "execution_count": 310,
   "metadata": {
    "collapsed": false
   },
   "outputs": [
    {
     "data": {
      "image/png": "[encoded data removed]",
      "text/plain": [
       "<Figure size 576x396 with 2 Axes>"
      ]
     },
     "metadata": {},
     "output_type": "display_data"
    }
   ],
   "source": [
    "import seaborn as sns\n",
    "import matplotlib.pyplot as plt\n",
    "sns.heatmap(rolled_data3.corr().sort_values('Amount'))\n",
    "plt.show()"
   ]
  },
  {
   "cell_type": "code",
   "execution_count": 311,
   "metadata": {
    "collapsed": false
   },
   "outputs": [
    {
     "data": {
      "text/plain": [
       "Amount                           1.000000\n",
       "no_of_days_till_next_holiday     0.562557\n",
       "is_weekday                       0.510602\n",
       "rolling_Amount_std_4             0.316513\n",
       "rolling_Amount_mean_7            0.310386\n",
       "rolling_Amount_std_7             0.309778\n",
       "rolling_Amount_std_5             0.308025\n",
       "rolling_Amount_std_6             0.263410\n",
       "rolling_Amount_std_3             0.258150\n",
       "no_of_days_past_last_holiday     0.228160\n",
       "quarter                          0.212481\n",
       "week_of_year                     0.203091\n",
       "month                            0.195779\n",
       "last_T1                          0.119672\n",
       "rolling_Amount_mean_6            0.119005\n",
       "                                   ...   \n",
       "last_T4                          0.060369\n",
       "last_T3                          0.054242\n",
       "rolling_Amount_mean_5            0.049938\n",
       "rolling_Amount_mean_3            0.047270\n",
       "day_of_month                    -0.008964\n",
       "week_of_month                   -0.011032\n",
       "last_T5                         -0.025883\n",
       "no_of_days_past_last_festival   -0.038133\n",
       "last_T2                         -0.088238\n",
       "no_of_days_from_last_peak       -0.093660\n",
       "no_of_days_till_next_festival   -0.109395\n",
       "is_holiday_boolean              -0.158082\n",
       "is_weekend                      -0.510602\n",
       "day_of_week                     -0.535553\n",
       "weekend_and_holiday             -0.551524\n",
       "Name: Amount, Length: 31, dtype: float64"
      ]
     },
     "execution_count": 311,
     "metadata": {},
     "output_type": "execute_result"
    }
   ],
   "source": [
    "corr_matrix = rolled_data3.corr()\n",
    "corr_matrix[\"Amount\"].sort_values(ascending=False)"
   ]
  },
  {
   "cell_type": "code",
   "execution_count": 313,
   "metadata": {
    "collapsed": false
   },
   "outputs": [],
   "source": [
    "all_cols=rolled_data3.columns.tolist()"
   ]
  },
  {
   "cell_type": "code",
   "execution_count": 314,
   "metadata": {
    "collapsed": true
   },
   "outputs": [],
   "source": [
    "all_cols.remove('Amount')"
   ]
  },
  {
   "cell_type": "code",
   "execution_count": 315,
   "metadata": {
    "collapsed": false
   },
   "outputs": [
    {
     "data": {
      "text/plain": [
       "(978, 32)"
      ]
     },
     "execution_count": 315,
     "metadata": {},
     "output_type": "execute_result"
    }
   ],
   "source": [
    "rolled_data3.shape"
   ]
  },
  {
   "cell_type": "code",
   "execution_count": 334,
   "metadata": {
    "collapsed": false
   },
   "outputs": [
    {
     "name": "stderr",
     "output_type": "stream",
     "text": [
      "D:\\python\\lib\\site-packages\\ipykernel\\__main__.py:1: SettingWithCopyWarning: \n",
      "A value is trying to be set on a copy of a slice from a DataFrame.\n",
      "Try using .loc[row_indexer,col_indexer] = value instead\n",
      "\n",
      "See the caveats in the documentation: http://pandas.pydata.org/pandas-docs/stable/indexing.html#indexing-view-versus-copy\n",
      "  if __name__ == '__main__':\n"
     ]
    }
   ],
   "source": [
    "rolled_data3['time_since_for_trend']=rolled_data3['time_since_for_trend'].astype(int)"
   ]
  },
  {
   "cell_type": "code",
   "execution_count": 335,
   "metadata": {
    "collapsed": false
   },
   "outputs": [],
   "source": [
    "train=rolled_data3[:-200]\n",
    "test=rolled_data3[-200:]"
   ]
  },
  {
   "cell_type": "code",
   "execution_count": 336,
   "metadata": {
    "collapsed": false
   },
   "outputs": [
    {
     "data": {
      "text/plain": [
       "XGBRegressor(base_score=0.5, booster='gbtree', colsample_bylevel=1,\n",
       "       colsample_bytree=0.5, gamma=1, learning_rate=0.04, max_delta_step=0,\n",
       "       max_depth=6, min_child_weight=1, missing=None, n_estimators=250,\n",
       "       n_jobs=1, nthread=None, objective='reg:linear', random_state=0,\n",
       "       reg_alpha=0, reg_lambda=1, scale_pos_weight=1, seed=0, silent=True,\n",
       "       subsample=1)"
      ]
     },
     "execution_count": 336,
     "metadata": {},
     "output_type": "execute_result"
    }
   ],
   "source": [
    "import xgboost\n",
    "best_xgb_model = xgboost.XGBRegressor(colsample_bytree=0.5,\n",
    "                 gamma=1,                 \n",
    "                 learning_rate=0.04,\n",
    "                 max_depth=6,\n",
    "                 n_estimators=250,                                                                    \n",
    "                 seed=0)\n",
    "best_xgb_model.fit(train[all_cols],train[\"Amount\"])"
   ]
  },
  {
   "cell_type": "code",
   "execution_count": 339,
   "metadata": {
    "collapsed": false
   },
   "outputs": [
    {
     "name": "stdout",
     "output_type": "stream",
     "text": [
      "1251431.6691975147\n",
      "942.8482982224327\n"
     ]
    }
   ],
   "source": [
    "import math\n",
    "from sklearn.metrics import mean_squared_error,mean_squared_log_error,mean_absolute_error\n",
    "\n",
    "pred_val_xgb=best_xgb_model.predict(test[all_cols])\n",
    "print(math.sqrt(mean_squared_error(test['Amount'],pred_val_xgb)))\n"
   ]
  },
  {
   "cell_type": "code",
   "execution_count": 43,
   "metadata": {
    "collapsed": false
   },
   "outputs": [
    {
     "data": {
      "text/plain": [
       "0.11961722488038277"
      ]
     },
     "execution_count": 43,
     "metadata": {},
     "output_type": "execute_result"
    }
   ],
   "source": [
    "50/418"
   ]
  },
  {
   "cell_type": "code",
   "execution_count": 42,
   "metadata": {
    "collapsed": false
   },
   "outputs": [
    {
     "data": {
      "text/plain": [
       "387824    0.265700\n",
       "888384    0.431636\n",
       "900135    0.481831\n",
       "365019    0.516961\n",
       "761449    0.542621\n",
       "421069    0.565947\n",
       "591063    0.587310\n",
       "149503    0.606265\n",
       "517142    0.621750\n",
       "430977    0.636403\n",
       "924560    0.649510\n",
       "783405    0.662494\n",
       "391481    0.674537\n",
       "180067    0.685481\n",
       "466991    0.696139\n",
       "123441    0.706533\n",
       "198403    0.716663\n",
       "352051    0.726731\n",
       "747833    0.736797\n",
       "805400    0.746288\n",
       "352330    0.755672\n",
       "399993    0.764854\n",
       "343762    0.773692\n",
       "491055    0.780368\n",
       "697273    0.787032\n",
       "704348    0.793513\n",
       "883354    0.799861\n",
       "278504    0.805510\n",
       "615012    0.810600\n",
       "791919    0.815619\n",
       "796073    0.820611\n",
       "224283    0.825282\n",
       "502136    0.829866\n",
       "917420    0.834438\n",
       "683967    0.838991\n",
       "423890    0.843477\n",
       "203101    0.847877\n",
       "438511    0.852162\n",
       "121004    0.856331\n",
       "826077    0.859957\n",
       "207180    0.863514\n",
       "711461    0.867033\n",
       "515470    0.870535\n",
       "835692    0.873954\n",
       "507937    0.877275\n",
       "277015    0.880518\n",
       "888408    0.883735\n",
       "586634    0.886866\n",
       "455734    0.889758\n",
       "657516    0.892538\n",
       "Name: CustID_enc, dtype: float64"
      ]
     },
     "execution_count": 42,
     "metadata": {},
     "output_type": "execute_result"
    }
   ],
   "source": [
    "amts['CustID_enc'].value_counts(normalize=True).cumsum().head(50)/418"
   ]
  },
  {
   "cell_type": "code",
   "execution_count": null,
   "metadata": {
    "collapsed": true
   },
   "outputs": [],
   "source": [
    "amts.groupby(['Alpha Rec Code',])."
   ]
  },
  {
   "cell_type": "code",
   "execution_count": 47,
   "metadata": {
    "collapsed": false
   },
   "outputs": [
    {
     "data": {
      "text/plain": [
       "            353508\n",
       "17533592        17\n",
       "15234363        15\n",
       "30773428        13\n",
       "51178364        12\n",
       "13816964        12\n",
       "17818121        12\n",
       "13653877        12\n",
       "17008581        11\n",
       "12841399        11\n",
       "32250475        10\n",
       "21043484        10\n",
       "45111412         9\n",
       "76420008         9\n",
       "44278670         9\n",
       "17305966         9\n",
       "29440540         9\n",
       "76423852         9\n",
       "15664564         9\n",
       "15084221         9\n",
       "29302203         8\n",
       "13996210         8\n",
       "17777448         7\n",
       "74919004         7\n",
       "36606615         7\n",
       "34382352         7\n",
       "15037500         7\n",
       "12033049         7\n",
       "16754584         7\n",
       "31941252         7\n",
       "74676466         7\n",
       "27396561         7\n",
       "47840384         7\n",
       "18979081         7\n",
       "76435529         7\n",
       "33683368         7\n",
       "25209303         7\n",
       "17594645         7\n",
       "16310170         7\n",
       "31293014         7\n",
       "13965199         7\n",
       "13482101         7\n",
       "19467367         7\n",
       "12700813         7\n",
       "13966697         7\n",
       "15353095         7\n",
       "25622287         7\n",
       "17813388         7\n",
       "48138301         6\n",
       "14751587         6\n",
       "             ...  \n",
       "53017149         1\n",
       "26086807         1\n",
       "75759896         1\n",
       "73848500         1\n",
       "70099496         1\n",
       "23010980         1\n",
       "70614301         1\n",
       "37082872         1\n",
       "27244993         1\n",
       "49383770         1\n",
       "63204626         1\n",
       "71128603         1\n",
       "63234273         1\n",
       "66136477         1\n",
       "63319925         1\n",
       "54214394         1\n",
       "32805160         1\n",
       "55794607         1\n",
       "63461236         1\n",
       "61599616         1\n",
       "52134116         1\n",
       "29038644         1\n",
       "25155117         1\n",
       "63321169         1\n",
       "33349086         1\n",
       "65986277         1\n",
       "27651842         1\n",
       "36300203         1\n",
       "98747881         1\n",
       "10969144         1\n",
       "72828913         1\n",
       "53627654         1\n",
       "47185791         1\n",
       "49459368         1\n",
       "66625135         1\n",
       "28877571         1\n",
       "42781472         1\n",
       "72095429         1\n",
       "66284117         1\n",
       "34641860         1\n",
       "66202568         1\n",
       "80923980         1\n",
       "52119526         1\n",
       "30161143         1\n",
       "71544897         1\n",
       "65838312         1\n",
       "34824975         1\n",
       "71336312         1\n",
       "75793537         1\n",
       "23446819         1\n",
       "Name: Receipt Number, Length: 251709, dtype: int64"
      ]
     },
     "execution_count": 47,
     "metadata": {},
     "output_type": "execute_result"
    }
   ],
   "source": [
    "data['Receipt Number'].astype(str).apply(lambda x: '' if x=='76417510' else x).value_counts()"
   ]
  },
  {
   "cell_type": "code",
   "execution_count": 340,
   "metadata": {
    "collapsed": true
   },
   "outputs": [],
   "source": [
    "last_values=[16,32,11,19,28]"
   ]
  },
  {
   "cell_type": "code",
   "execution_count": 341,
   "metadata": {
    "collapsed": true
   },
   "outputs": [],
   "source": [
    "last_values.remove(last_values[0])"
   ]
  },
  {
   "cell_type": "code",
   "execution_count": 343,
   "metadata": {
    "collapsed": false
   },
   "outputs": [],
   "source": [
    "last_values.remove(last_values[0])\n",
    "last_values.append(39)"
   ]
  },
  {
   "cell_type": "code",
   "execution_count": 345,
   "metadata": {
    "collapsed": false
   },
   "outputs": [
    {
     "data": {
      "text/plain": [
       "32"
      ]
     },
     "execution_count": 345,
     "metadata": {},
     "output_type": "execute_result"
    }
   ],
   "source": [
    "last_values[0]"
   ]
  },
  {
   "cell_type": "code",
   "execution_count": 346,
   "metadata": {
    "collapsed": true
   },
   "outputs": [],
   "source": [
    "# test data feats creation"
   ]
  },
  {
   "cell_type": "code",
   "execution_count": 356,
   "metadata": {
    "collapsed": true
   },
   "outputs": [],
   "source": []
  },
  {
   "cell_type": "code",
   "execution_count": null,
   "metadata": {
    "collapsed": true
   },
   "outputs": [],
   "source": []
  }
 ],
 "metadata": {
  "kernelspec": {
   "display_name": "Python 3",
   "language": "python",
   "name": "python3"
  },
  "language_info": {
   "codemirror_mode": {
    "name": "ipython",
    "version": 3
   },
   "file_extension": ".py",
   "mimetype": "text/x-python",
   "name": "python",
   "nbconvert_exporter": "python",
   "pygments_lexer": "ipython3",
   "version": "3.6.6"
  }
 },
 "nbformat": 4,
 "nbformat_minor": 2
}
